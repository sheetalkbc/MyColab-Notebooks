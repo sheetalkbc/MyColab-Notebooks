{
  "nbformat": 4,
  "nbformat_minor": 0,
  "metadata": {
    "colab": {
      "name": "SentenceTransformer.ipynb",
      "provenance": [],
      "collapsed_sections": [],
      "authorship_tag": "ABX9TyMfPr123ezUacyXvMaOfvDE",
      "include_colab_link": true
    },
    "kernelspec": {
      "name": "python3",
      "display_name": "Python 3"
    },
    "language_info": {
      "name": "python"
    },
    "accelerator": "GPU"
  },
  "cells": [
    {
      "cell_type": "markdown",
      "metadata": {
        "id": "view-in-github",
        "colab_type": "text"
      },
      "source": [
        "<a href=\"https://colab.research.google.com/github/sheetalkbc/MyColab-Notebooks/blob/master/SentenceTransformer.ipynb\" target=\"_parent\"><img src=\"https://colab.research.google.com/assets/colab-badge.svg\" alt=\"Open In Colab\"/></a>"
      ]
    },
    {
      "cell_type": "code",
      "metadata": {
        "colab": {
          "base_uri": "https://localhost:8080/"
        },
        "id": "-OgQc2ttWDZL",
        "outputId": "12cd8309-40b1-469b-be1c-6bddb67d2a43"
      },
      "source": [
        "!pip install -U sentence-transformers"
      ],
      "execution_count": 1,
      "outputs": [
        {
          "output_type": "stream",
          "text": [
            "Requirement already satisfied: sentence-transformers in /usr/local/lib/python3.7/dist-packages (2.0.0)\n",
            "Requirement already satisfied: torch>=1.6.0 in /usr/local/lib/python3.7/dist-packages (from sentence-transformers) (1.9.0+cu102)\n",
            "Requirement already satisfied: torchvision in /usr/local/lib/python3.7/dist-packages (from sentence-transformers) (0.10.0+cu102)\n",
            "Requirement already satisfied: huggingface-hub in /usr/local/lib/python3.7/dist-packages (from sentence-transformers) (0.0.12)\n",
            "Requirement already satisfied: nltk in /usr/local/lib/python3.7/dist-packages (from sentence-transformers) (3.2.5)\n",
            "Requirement already satisfied: scipy in /usr/local/lib/python3.7/dist-packages (from sentence-transformers) (1.4.1)\n",
            "Requirement already satisfied: numpy in /usr/local/lib/python3.7/dist-packages (from sentence-transformers) (1.19.5)\n",
            "Requirement already satisfied: transformers<5.0.0,>=4.6.0 in /usr/local/lib/python3.7/dist-packages (from sentence-transformers) (4.8.2)\n",
            "Requirement already satisfied: sentencepiece in /usr/local/lib/python3.7/dist-packages (from sentence-transformers) (0.1.96)\n",
            "Requirement already satisfied: scikit-learn in /usr/local/lib/python3.7/dist-packages (from sentence-transformers) (0.22.2.post1)\n",
            "Requirement already satisfied: tqdm in /usr/local/lib/python3.7/dist-packages (from sentence-transformers) (4.41.1)\n",
            "Requirement already satisfied: typing-extensions in /usr/local/lib/python3.7/dist-packages (from torch>=1.6.0->sentence-transformers) (3.7.4.3)\n",
            "Requirement already satisfied: requests in /usr/local/lib/python3.7/dist-packages (from transformers<5.0.0,>=4.6.0->sentence-transformers) (2.23.0)\n",
            "Requirement already satisfied: sacremoses in /usr/local/lib/python3.7/dist-packages (from transformers<5.0.0,>=4.6.0->sentence-transformers) (0.0.45)\n",
            "Requirement already satisfied: filelock in /usr/local/lib/python3.7/dist-packages (from transformers<5.0.0,>=4.6.0->sentence-transformers) (3.0.12)\n",
            "Requirement already satisfied: packaging in /usr/local/lib/python3.7/dist-packages (from transformers<5.0.0,>=4.6.0->sentence-transformers) (21.0)\n",
            "Requirement already satisfied: regex!=2019.12.17 in /usr/local/lib/python3.7/dist-packages (from transformers<5.0.0,>=4.6.0->sentence-transformers) (2019.12.20)\n",
            "Requirement already satisfied: tokenizers<0.11,>=0.10.1 in /usr/local/lib/python3.7/dist-packages (from transformers<5.0.0,>=4.6.0->sentence-transformers) (0.10.3)\n",
            "Requirement already satisfied: importlib-metadata in /usr/local/lib/python3.7/dist-packages (from transformers<5.0.0,>=4.6.0->sentence-transformers) (4.6.1)\n",
            "Requirement already satisfied: pyyaml in /usr/local/lib/python3.7/dist-packages (from transformers<5.0.0,>=4.6.0->sentence-transformers) (3.13)\n",
            "Requirement already satisfied: pyparsing>=2.0.2 in /usr/local/lib/python3.7/dist-packages (from packaging->transformers<5.0.0,>=4.6.0->sentence-transformers) (2.4.7)\n",
            "Requirement already satisfied: zipp>=0.5 in /usr/local/lib/python3.7/dist-packages (from importlib-metadata->transformers<5.0.0,>=4.6.0->sentence-transformers) (3.5.0)\n",
            "Requirement already satisfied: six in /usr/local/lib/python3.7/dist-packages (from nltk->sentence-transformers) (1.15.0)\n",
            "Requirement already satisfied: urllib3!=1.25.0,!=1.25.1,<1.26,>=1.21.1 in /usr/local/lib/python3.7/dist-packages (from requests->transformers<5.0.0,>=4.6.0->sentence-transformers) (1.24.3)\n",
            "Requirement already satisfied: idna<3,>=2.5 in /usr/local/lib/python3.7/dist-packages (from requests->transformers<5.0.0,>=4.6.0->sentence-transformers) (2.10)\n",
            "Requirement already satisfied: certifi>=2017.4.17 in /usr/local/lib/python3.7/dist-packages (from requests->transformers<5.0.0,>=4.6.0->sentence-transformers) (2021.5.30)\n",
            "Requirement already satisfied: chardet<4,>=3.0.2 in /usr/local/lib/python3.7/dist-packages (from requests->transformers<5.0.0,>=4.6.0->sentence-transformers) (3.0.4)\n",
            "Requirement already satisfied: joblib in /usr/local/lib/python3.7/dist-packages (from sacremoses->transformers<5.0.0,>=4.6.0->sentence-transformers) (1.0.1)\n",
            "Requirement already satisfied: click in /usr/local/lib/python3.7/dist-packages (from sacremoses->transformers<5.0.0,>=4.6.0->sentence-transformers) (7.1.2)\n",
            "Requirement already satisfied: pillow>=5.3.0 in /usr/local/lib/python3.7/dist-packages (from torchvision->sentence-transformers) (7.1.2)\n"
          ],
          "name": "stdout"
        }
      ]
    },
    {
      "cell_type": "code",
      "metadata": {
        "id": "f6eTnceVYyU0"
      },
      "source": [
        "import numpy as np\n",
        "import pandas as pd\n",
        "import matplotlib.pyplot as plt\n",
        "\n",
        "from tqdm import tqdm\n",
        "\n",
        "pd.set_option(\"display.max_colwidth\", 900)"
      ],
      "execution_count": 2,
      "outputs": []
    },
    {
      "cell_type": "code",
      "metadata": {
        "id": "UYtcobdSZCX7"
      },
      "source": [
        "df = pd.read_csv('https://raw.githubusercontent.com/sheetalkbc/TestDataFiles/main/TruckRoll_Alarms.csv?token=AJU6QFHZL7MTBTMFQTFMQ43A62OPK')\n",
        "#df.drop('Unnamed: 0',inplace=True,axis=1)"
      ],
      "execution_count": 4,
      "outputs": []
    },
    {
      "cell_type": "code",
      "metadata": {
        "id": "zLabzTg6ZQgU"
      },
      "source": [
        "from sentence_transformers import SentenceTransformer\n",
        "\n",
        "model = SentenceTransformer('sentence-transformers/stsb-xlm-r-multilingual')"
      ],
      "execution_count": 5,
      "outputs": []
    },
    {
      "cell_type": "code",
      "metadata": {
        "id": "RWTbHbhWa-wg"
      },
      "source": [
        "df['Text1'] = df.WORK_LOG + df.DESCRIPTION"
      ],
      "execution_count": 6,
      "outputs": []
    },
    {
      "cell_type": "code",
      "metadata": {
        "colab": {
          "base_uri": "https://localhost:8080/"
        },
        "id": "ZDtEu4az3y5M",
        "outputId": "bc4256c9-5790-4962-f934-e0e9b25d050a"
      },
      "source": [
        "df.labels.value_counts()"
      ],
      "execution_count": 7,
      "outputs": [
        {
          "output_type": "execute_result",
          "data": {
            "text/plain": [
              "N    4393\n",
              "Y      64\n",
              "Name: labels, dtype: int64"
            ]
          },
          "metadata": {
            "tags": []
          },
          "execution_count": 7
        }
      ]
    },
    {
      "cell_type": "code",
      "metadata": {
        "colab": {
          "base_uri": "https://localhost:8080/"
        },
        "id": "ffNVchbAZXZO",
        "outputId": "9abd9a06-da8c-4ef9-ad71-58c9782a661a"
      },
      "source": [
        "batch_size = 64\n",
        "features_1 = np.empty((0,768), float)\n",
        "\n",
        "for i in tqdm(range(0, df.shape[0], batch_size)):\n",
        "    batch = df.Text1.tolist()[i:i+batch_size]\n",
        "    feature_list = model.encode(batch)\n",
        "    Arr = np.array(feature_list)\n",
        "    features_1 = np.append(features_1,Arr,axis=0)\n",
        "\n",
        "print('First Text', np.shape(features_1))\n",
        "\n",
        "##################\n",
        "\n",
        "batch_size = 64\n",
        "features_2 = np.empty((0,768), float)\n",
        "\n",
        "for i in tqdm(range(0, df.shape[0], batch_size)):\n",
        "    batch = df.Alarms.tolist()[i:i+batch_size]\n",
        "    feature_list = model.encode(batch)\n",
        "    Arr = np.array(feature_list)\n",
        "    features_2 = np.append(features_2,Arr,axis=0)\n",
        "\n",
        "print('First Text', np.shape(features_2))"
      ],
      "execution_count": 8,
      "outputs": [
        {
          "output_type": "stream",
          "text": [
            "100%|██████████| 70/70 [00:29<00:00,  2.34it/s]\n",
            "  0%|          | 0/70 [00:00<?, ?it/s]"
          ],
          "name": "stderr"
        },
        {
          "output_type": "stream",
          "text": [
            "First Text (4457, 768)\n"
          ],
          "name": "stdout"
        },
        {
          "output_type": "stream",
          "text": [
            "100%|██████████| 70/70 [00:27<00:00,  2.52it/s]"
          ],
          "name": "stderr"
        },
        {
          "output_type": "stream",
          "text": [
            "First Text (4457, 768)\n"
          ],
          "name": "stdout"
        },
        {
          "output_type": "stream",
          "text": [
            "\n"
          ],
          "name": "stderr"
        }
      ]
    },
    {
      "cell_type": "code",
      "metadata": {
        "colab": {
          "base_uri": "https://localhost:8080/"
        },
        "id": "5TBAT3uvPV-C",
        "outputId": "761940e3-fd11-4af8-927b-855b59dac6d1"
      },
      "source": [
        "print('First Text', np.shape(features_1))\n",
        "print('Second Text', np.shape(features_2))"
      ],
      "execution_count": 9,
      "outputs": [
        {
          "output_type": "stream",
          "text": [
            "First Text (4457, 768)\n",
            "Second Text (4457, 768)\n"
          ],
          "name": "stdout"
        }
      ]
    },
    {
      "cell_type": "code",
      "metadata": {
        "id": "Cx3yhzo1R7Cd"
      },
      "source": [
        ""
      ],
      "execution_count": null,
      "outputs": []
    },
    {
      "cell_type": "code",
      "metadata": {
        "colab": {
          "base_uri": "https://localhost:8080/"
        },
        "id": "wyFRO_5uRqcK",
        "outputId": "c0ce10b0-3f96-45ea-a928-c51b65cd999f"
      },
      "source": [
        "Combi_Feature = np.stack([features_1,features_2],axis=1)\n",
        "print(np.shape(Combi_Feature))\n",
        "\n",
        "Combi_Feature = np.reshape(Combi_Feature,(4457,1536))\n",
        "print(np.shape(Combi_Feature))"
      ],
      "execution_count": 10,
      "outputs": [
        {
          "output_type": "stream",
          "text": [
            "(4457, 2, 768)\n",
            "(4457, 1536)\n"
          ],
          "name": "stdout"
        }
      ]
    },
    {
      "cell_type": "code",
      "metadata": {
        "colab": {
          "base_uri": "https://localhost:8080/"
        },
        "id": "e9bzYOa9ZvKd",
        "outputId": "8a5d02dc-0e7a-4b4d-eee8-f4f0c88d9907"
      },
      "source": [
        "import numpy as np\n",
        "from sklearn.cluster import DBSCAN\n",
        "from sklearn import metrics\n",
        "from sklearn.datasets.samples_generator import make_blobs\n",
        "from sklearn.preprocessing import StandardScaler\n",
        "from sklearn import datasets\n",
        "  \n",
        "# Load data in X\n",
        "db = DBSCAN(eps=5, min_samples=10).fit(Combi_Feature)\n",
        "\n",
        "core_samples_mask = np.zeros_like(db.labels_, dtype=bool)\n",
        "core_samples_mask[db.core_sample_indices_] = True\n",
        "Cluster_labels = db.labels_\n",
        "  \n",
        "# Number of clusters in labels, ignoring noise if present.\n",
        "n_clusters_ = len(set(Cluster_labels)) - (1 if -1 in Cluster_labels else 0)\n",
        "  \n",
        "print()\n",
        "\n",
        "print('Clusters \\n',np.unique(Cluster_labels,return_counts=True),'\\n')\n",
        "  \n",
        "df['cluster'] = pd.Series(Cluster_labels)\n",
        "print('Cluster Count', df.cluster.nunique())\n",
        "df.loc[df.labels=='Y','cluster'].value_counts()"
      ],
      "execution_count": 23,
      "outputs": [
        {
          "output_type": "stream",
          "text": [
            "\n",
            "Clusters \n",
            " (array([-1,  0,  1,  2,  3,  4,  5,  6,  7,  8,  9, 10, 11, 12, 13, 14, 15,\n",
            "       16, 17, 18, 19, 20, 21, 22]), array([3008,  493,   41,  110,   10,   43,  145,  142,   10,   57,   17,\n",
            "         13,   19,  120,   30,   28,   33,   15,   20,   31,   29,   15,\n",
            "         13,   15])) \n",
            "\n",
            "Cluster Count 24\n"
          ],
          "name": "stdout"
        },
        {
          "output_type": "execute_result",
          "data": {
            "text/plain": [
              "-1     52\n",
              " 0      8\n",
              " 21     1\n",
              " 17     1\n",
              " 8      1\n",
              " 6      1\n",
              "Name: cluster, dtype: int64"
            ]
          },
          "metadata": {
            "tags": []
          },
          "execution_count": 23
        }
      ]
    },
    {
      "cell_type": "code",
      "metadata": {
        "id": "tnIGD6Ai_pyd"
      },
      "source": [
        "#df.loc[df.cluster==20].labels"
      ],
      "execution_count": null,
      "outputs": []
    },
    {
      "cell_type": "code",
      "metadata": {
        "id": "9l7OZxoIuTu-"
      },
      "source": [
        ""
      ],
      "execution_count": null,
      "outputs": []
    },
    {
      "cell_type": "code",
      "metadata": {
        "colab": {
          "base_uri": "https://localhost:8080/",
          "height": 1000
        },
        "id": "DmSDWIvvgQD5",
        "outputId": "040dfaa1-6ca9-45a2-bf71-9c2559609e45"
      },
      "source": [
        "\n",
        "#df_filter.loc[df.labels==1,'cluster'].value_counts()\n",
        "\n",
        "df.loc[df.cluster==0,['INCIDENT_NUMBER','labels','Text1','Alarms']].sort_values(by=['labels'],ascending=False).head(20)\n",
        "\n"
      ],
      "execution_count": 24,
      "outputs": [
        {
          "output_type": "execute_result",
          "data": {
            "text/html": [
              "<div>\n",
              "<style scoped>\n",
              "    .dataframe tbody tr th:only-of-type {\n",
              "        vertical-align: middle;\n",
              "    }\n",
              "\n",
              "    .dataframe tbody tr th {\n",
              "        vertical-align: top;\n",
              "    }\n",
              "\n",
              "    .dataframe thead th {\n",
              "        text-align: right;\n",
              "    }\n",
              "</style>\n",
              "<table border=\"1\" class=\"dataframe\">\n",
              "  <thead>\n",
              "    <tr style=\"text-align: right;\">\n",
              "      <th></th>\n",
              "      <th>INCIDENT_NUMBER</th>\n",
              "      <th>labels</th>\n",
              "      <th>Text1</th>\n",
              "      <th>Alarms</th>\n",
              "    </tr>\n",
              "  </thead>\n",
              "  <tbody>\n",
              "    <tr>\n",
              "      <th>118</th>\n",
              "      <td>INC000001691619</td>\n",
              "      <td>Y</td>\n",
              "      <td>cell operation degraded unitname antennaline rf_ext rmod_r major alarm notification additionalfaultid lncel transmission path failure melden alarmen original too activ bitte ort pruffenmelden major alarm</td>\n",
              "      <td>cell notification additionalfaultid lncel transmission path failure _ nms n no_corbanokia_netact gpp_v info batteriewuerdig nan operation degraded unitname antennaline smod_r rf_ext rmod_r major alarm unitname_antennaline anms</td>\n",
              "    </tr>\n",
              "    <tr>\n",
              "      <th>1525</th>\n",
              "      <td>INC000001702998</td>\n",
              "      <td>Y</td>\n",
              "      <td>cell operation bbmod_r rf rm minor alarm unitname antennaline original ueberprueft alarme aktiv antl runtime object antl_r port label antenna description tx capable true dc voltage hdlc communication allowed current value threshold major restart helfen bitte ort pruefen entstoeren crq findensporadisch lncel minor alarm</td>\n",
              "      <td>cell operation degraded bbmod_r rf rmod_r additionalf antenna line device failure degradedmrbts _ smod_r bbext additionalfnms n no_corbanokia_netact gpp_v info batteriewuerdig nan mrbts lnbts unitname rd party rm rmnms antennaline minor alarm</td>\n",
              "    </tr>\n",
              "    <tr>\n",
              "      <th>1036</th>\n",
              "      <td>INC000001698668</td>\n",
              "      <td>Y</td>\n",
              "      <td>mrbts lnbts base station notification unitname tilt path smod_r rf_ext rmod_r ald_r re antenna line device failure melden sporadisch alarme stehen aktiv ot reset helfen bitte ort pruefen entstoeren closed info anlage alarmfrei on air erkennen konfiguration überprüfen fehler feststellen durchführen fehlerfrei ticket schließenmelden sporadisch antenna line device failure</td>\n",
              "      <td>base station notification unitname tilt path smod_r rf_ext rmod_r ald_r re antenna line device failure notificationmrbts lnbts unitname_tilt _ renms n west_corbanokia_netact gpp_v info batteriewuerdig nan mrbts cell lncel operation degraded degradedmrbts</td>\n",
              "    </tr>\n",
              "    <tr>\n",
              "      <th>879</th>\n",
              "      <td>INC000001697357</td>\n",
              "      <td>Y</td>\n",
              "      <td>mrbts lnbts base station notification unitname antennaline path smod_r bbext bbmod_r rf rm antenna line failure melden alarme stehen aktiv ot aktion on site bitte ort pruefen relevante crq findenmelden antenna line failure</td>\n",
              "      <td>base station notification unitname smod_r bbext bbmod_r rf rm antenna line failure dedicated notificationmrbts lnbts _ rmnms n no_corbanokia_netact gpp_v info batteriewuerdig nan mrbts</td>\n",
              "    </tr>\n",
              "    <tr>\n",
              "      <th>3889</th>\n",
              "      <td>INC000001721496</td>\n",
              "      <td>Y</td>\n",
              "      <td>cell operation degraded unitname antennaline rf_ext rmod_r antenna line failure melden alarme uberprueft aktiv original bitte ort pruefen entstoeren relevante incs crqs findenmelden antenna line failure</td>\n",
              "      <td>base station notification unitname additionalfaultid mrbts configuration change rejected by bts notificationmrbts lnbts unitname_fsmf _ nms n west_corbanokia_netact gpp_v info batteriewuerdig nan antennaline path smod_r rf_ext rmod_r dc voltage administratively disabled unitname_antennaline anms cell operation degraded antenna line failure degradedmrbts lncel</td>\n",
              "    </tr>\n",
              "    <tr>\n",
              "      <th>2324</th>\n",
              "      <td>INC000001709693</td>\n",
              "      <td>Y</td>\n",
              "      <td>cell operation bbmod_r rf rm minor alarm unitname antennaline lncel melden degraded alarme stehen aktiv netact bitte ort prüfen entstoeren closed findenlncel melden minor alarm</td>\n",
              "      <td>cell operation degraded unitname tilt path smod_r rf_ext rmod_r ald_r re antenna line device failure degradedmrbts lnbts lncel unitname_tilt _ renms n west_corbanokia_netact gpp_v info batteriewuerdig nan mrbts antennaline bbmod_r rf rm minor alarm unitname_antennaline bbext rmnms</td>\n",
              "    </tr>\n",
              "    <tr>\n",
              "      <th>3739</th>\n",
              "      <td>INC000001720239</td>\n",
              "      <td>Y</td>\n",
              "      <td>cell operation path bbmod_r rf rmod_r re antenna line device failure unitname tilt melden lncel degraded alarmen original tool activ bitte ort pruffen relevante crq findenmelden lncel antenna line device failure</td>\n",
              "      <td>cell operation degraded unitname tilt path smod_r bbext bbmod_r rf rmod_r antenna line device failure unitname_tilt _ annms n west_corbanokia_netact gpp_v info batteriewuerdig nan</td>\n",
              "    </tr>\n",
              "    <tr>\n",
              "      <th>1695</th>\n",
              "      <td>INC000001704140</td>\n",
              "      <td>Y</td>\n",
              "      <td>cell operation path smod_r rf_ext rmod_r ald_r re antenna line device failure unitname tilt melden lncel degraded alarmen original tool activ reset helfen bitte ort pruffen alarm aktiv sektor erneut auftreten tauschenmelden lncel antenna line device failure</td>\n",
              "      <td>cell operation degraded unitname tilt path smod_r rf_ext rmod_r ald_r re antenna line device failure degradedmrbts lnbts lncel unitname_tilt _ renms n west_corbanokia_netact gpp_v info batteriewuerdig nan mrbts control dedicated nms</td>\n",
              "    </tr>\n",
              "    <tr>\n",
              "      <th>3122</th>\n",
              "      <td>INC000001716087</td>\n",
              "      <td>N</td>\n",
              "      <td>cell operation degraded antenna signal level failure alarme aktiv ot reset helfen cells degarded wcel bitte ort pruefen entstoeren relevante crq findensignal level failure</td>\n",
              "      <td>cell operation degraded antenna signal level failure degradedrnc nms _ n west_corbanokia_netact gpp_v info batteriewuerdig nan</td>\n",
              "    </tr>\n",
              "    <tr>\n",
              "      <th>3002</th>\n",
              "      <td>INC000001714997</td>\n",
              "      <td>N</td>\n",
              "      <td>cell operation degraded antenna signal level failure melden wcel alarme stehen aktiv ot remote reset helfen bitte pruefen entstoeren relevante crqmelden signal level failure</td>\n",
              "      <td>cell operation degraded antenna signal level failure degradedrnc nms _ n no_corbanokia_netact gpp_v info batteriewuerdig nan</td>\n",
              "    </tr>\n",
              "    <tr>\n",
              "      <th>3049</th>\n",
              "      <td>INC000001715534</td>\n",
              "      <td>N</td>\n",
              "      <td>cell faulty antenna major alarm lncel sporadisch down rf module failure smod_r bbext bbmod_r rmod_r mrbts lnbts uberprueft alarme stehen aktiv original tool task fuer techniker erstellen bitte ort pruefen enstoeren relevante or crqs findenlncel sporadisch down major alarm</td>\n",
              "      <td>cell faulty unitname frmf path smod_r bbext bbmod_r rf rmod_r module failure unitname_frmf _ nms n no_corbanokia_netact gpp_v info batteriewuerdig nan antenna major alarm faultyrnc out of use resource status indication disabled usernc operation degraded antennaline rf_ext unitname_antennaline anms notification additionalfaultid lncel transmission</td>\n",
              "    </tr>\n",
              "    <tr>\n",
              "      <th>3107</th>\n",
              "      <td>INC000001715952</td>\n",
              "      <td>N</td>\n",
              "      <td>cell operation degraded unitname antennaline path smod_r left bbmod_r major alarm left_bo melden transmission failure alarmen original tool activ bitte ort pruffen antennenmessung erkennbar fehlstellenmelden major alarm</td>\n",
              "      <td>cell operation degraded unitname antennaline path smod_r left bbmod_r major alarm degradedmrbts lnbts lncel unitname_antennaline _ n west_corbanokia_netact gpp_v info nan notification additionalfaultid transmission failure notificationmrbts nms mrbts</td>\n",
              "    </tr>\n",
              "    <tr>\n",
              "      <th>1</th>\n",
              "      <td>INC000001690689</td>\n",
              "      <td>N</td>\n",
              "      <td>cell operation path bbmod_r rf antenna line device failure unitname tilt lncel degraded alarmen original tool activ reset helfen bitte ort pruffen relevant crq findenlncel antenna line device failure</td>\n",
              "      <td>cell notification additionalfaultid lncel transmission path failure _ nms n no_corbanokia_netact gpp_v info batteriewuerdig nan operation degraded unitname tilt smod_r bbext bbmod_r rf antenna line device unitname_tilt annms base station notificationmrbts lnbts mrbts</td>\n",
              "    </tr>\n",
              "    <tr>\n",
              "      <th>3130</th>\n",
              "      <td>INC000001716137</td>\n",
              "      <td>N</td>\n",
              "      <td>cell operation path smod_r left bbmod_r major alarm unitname antennaline left_bo melden degraded transmission failure alarmen original tool activ bitte ort pruffen relevante crq findenmelden major alarm</td>\n",
              "      <td>cell notification additionalfaultid lncel transmission path failure notificationmrbts lnbts _ nms n west_corbanokia_netact gpp_v info batteriewuerdig nan mrbts operation degraded unitname antennaline smod_r left bbmod_r major alarm degradedmrbts unitname_antennaline</td>\n",
              "    </tr>\n",
              "    <tr>\n",
              "      <th>2983</th>\n",
              "      <td>INC000001714836</td>\n",
              "      <td>N</td>\n",
              "      <td>cell operation degraded antenna signal level failure melden wcel alarme stehen aktiv ot remote reset helfen bitte pruefen entstoeren relevante crqmelden signal level failure</td>\n",
              "      <td>cell operation degraded antenna signal level failure degradedrnc nms _ n no_corbanokia_netact gpp_v info batteriewuerdig nan</td>\n",
              "    </tr>\n",
              "    <tr>\n",
              "      <th>3131</th>\n",
              "      <td>INC000001716141</td>\n",
              "      <td>N</td>\n",
              "      <td>cell operation degraded unitname antennaline rf_ext rmod_r major alarm melden transmission path failure alarmen original tool activ bitte ort pruffen antennenmessung auffälligkeiten werte oklncel melden major alarm</td>\n",
              "      <td>base station notification unitname tilt path smod_r rf_ext rmod_r ald_r antenna line device failure notificationmrbts lnbts unitname_tilt _ nms n west_corbanokia_netact gpp_v info batteriewuerdig nan mrbts cell faulty serial_no as unit blocked faultymrbts lncel serial_no_as control operation degraded antennaline major alarm degradedmrbts unitname_antennaline anms additionalfaultid transmission</td>\n",
              "    </tr>\n",
              "    <tr>\n",
              "      <th>3132</th>\n",
              "      <td>INC000001716153</td>\n",
              "      <td>N</td>\n",
              "      <td>cell operation degraded unitname antennaline rf_ext rmod_r major alarm melden original ueberprueft alarme aktiv bitte prufen relevante crq findenmelden major alarm</td>\n",
              "      <td>cell operation degraded unitname antennaline path smod_r rf_ext rmod_r major alarm unitname_antennaline _ anms n no_corbanokia_netact gpp_v info batteriewuerdig nan notification additionalfaultid lncel transmission failure nms</td>\n",
              "    </tr>\n",
              "    <tr>\n",
              "      <th>3138</th>\n",
              "      <td>INC000001716210</td>\n",
              "      <td>N</td>\n",
              "      <td>cell operation bbmod_r rf rm major alarm unitname antennaline melden degraded transmission path failure alarmen original tool activ bitte ort pruffen stehen fehler momentan fehlerfreimelden major alarm</td>\n",
              "      <td>cell operation degraded unitname antennaline bbmod_r rf rm major alarm degradedmrbts lnbts lncel unitname_antennaline path _ smod_r bbext rmnms n west_corbanokia_netact gpp_v info batteriewuerdig nan mrbts minor notification additionalfaultid transmission failure notificationmrbts nms</td>\n",
              "    </tr>\n",
              "    <tr>\n",
              "      <th>3142</th>\n",
              "      <td>INC000001716244</td>\n",
              "      <td>N</td>\n",
              "      <td>cell operation degraded unitname antennaline rf_ext rmod_r major alarm melden transmission path failure alarmen original tool activ bitte ort pruffen relevante crq findenmelden major alarm</td>\n",
              "      <td>cell operation degraded unitname antennaline path smod_r rf_ext rmod_r minor alarm unitname_antennaline _ anms n no_corbanokia_netact gpp_v info batteriewuerdig regel nan major notification additionalfaultid lncel transmission failure nms</td>\n",
              "    </tr>\n",
              "    <tr>\n",
              "      <th>3145</th>\n",
              "      <td>INC000001716259</td>\n",
              "      <td>N</td>\n",
              "      <td>cell operation bbmod_r rf rm major alarm unitname antennaline melden alarmen original too activ bitte ort pruffenmelden major alarm</td>\n",
              "      <td>cell operation degraded unitname antennaline bbmod_r rf rm major alarm degradedmrbts lnbts lncel unitname_antennaline path _ smod_r bbext rmnms n west_corbanokia_netact gpp_v info batteriewuerdig nan mrbts notification additionalfaultid transmission failure notificationmrbts nms</td>\n",
              "    </tr>\n",
              "  </tbody>\n",
              "</table>\n",
              "</div>"
            ],
            "text/plain": [
              "      INCIDENT_NUMBER  ...                                                                                                                                                                                                                                                                                                                                                                                                        Alarms\n",
              "118   INC000001691619  ...                                                                                                                                                                            cell notification additionalfaultid lncel transmission path failure _ nms n no_corbanokia_netact gpp_v info batteriewuerdig nan operation degraded unitname antennaline smod_r rf_ext rmod_r major alarm unitname_antennaline anms\n",
              "1525  INC000001702998  ...                                                                                                                                                            cell operation degraded bbmod_r rf rmod_r additionalf antenna line device failure degradedmrbts _ smod_r bbext additionalfnms n no_corbanokia_netact gpp_v info batteriewuerdig nan mrbts lnbts unitname rd party rm rmnms antennaline minor alarm\n",
              "1036  INC000001698668  ...                                                                                                                                                base station notification unitname tilt path smod_r rf_ext rmod_r ald_r re antenna line device failure notificationmrbts lnbts unitname_tilt _ renms n west_corbanokia_netact gpp_v info batteriewuerdig nan mrbts cell lncel operation degraded degradedmrbts\n",
              "879   INC000001697357  ...                                                                                                                                                                                                                      base station notification unitname smod_r bbext bbmod_r rf rm antenna line failure dedicated notificationmrbts lnbts _ rmnms n no_corbanokia_netact gpp_v info batteriewuerdig nan mrbts\n",
              "3889  INC000001721496  ...                                     base station notification unitname additionalfaultid mrbts configuration change rejected by bts notificationmrbts lnbts unitname_fsmf _ nms n west_corbanokia_netact gpp_v info batteriewuerdig nan antennaline path smod_r rf_ext rmod_r dc voltage administratively disabled unitname_antennaline anms cell operation degraded antenna line failure degradedmrbts lncel\n",
              "2324  INC000001709693  ...                                                                                                                     cell operation degraded unitname tilt path smod_r rf_ext rmod_r ald_r re antenna line device failure degradedmrbts lnbts lncel unitname_tilt _ renms n west_corbanokia_netact gpp_v info batteriewuerdig nan mrbts antennaline bbmod_r rf rm minor alarm unitname_antennaline bbext rmnms\n",
              "3739  INC000001720239  ...                                                                                                                                                                                                                           cell operation degraded unitname tilt path smod_r bbext bbmod_r rf rmod_r antenna line device failure unitname_tilt _ annms n west_corbanokia_netact gpp_v info batteriewuerdig nan\n",
              "1695  INC000001704140  ...                                                                                                                                                                      cell operation degraded unitname tilt path smod_r rf_ext rmod_r ald_r re antenna line device failure degradedmrbts lnbts lncel unitname_tilt _ renms n west_corbanokia_netact gpp_v info batteriewuerdig nan mrbts control dedicated nms\n",
              "3122  INC000001716087  ...                                                                                                                                                                                                                                                                                cell operation degraded antenna signal level failure degradedrnc nms _ n west_corbanokia_netact gpp_v info batteriewuerdig nan\n",
              "3002  INC000001714997  ...                                                                                                                                                                                                                                                                                  cell operation degraded antenna signal level failure degradedrnc nms _ n no_corbanokia_netact gpp_v info batteriewuerdig nan\n",
              "3049  INC000001715534  ...                                                  cell faulty unitname frmf path smod_r bbext bbmod_r rf rmod_r module failure unitname_frmf _ nms n no_corbanokia_netact gpp_v info batteriewuerdig nan antenna major alarm faultyrnc out of use resource status indication disabled usernc operation degraded antennaline rf_ext unitname_antennaline anms notification additionalfaultid lncel transmission\n",
              "3107  INC000001715952  ...                                                                                                                                                    cell operation degraded unitname antennaline path smod_r left bbmod_r major alarm degradedmrbts lnbts lncel unitname_antennaline _ n west_corbanokia_netact gpp_v info nan notification additionalfaultid transmission failure notificationmrbts nms mrbts\n",
              "1     INC000001690689  ...                                                                                                                                   cell notification additionalfaultid lncel transmission path failure _ nms n no_corbanokia_netact gpp_v info batteriewuerdig nan operation degraded unitname tilt smod_r bbext bbmod_r rf antenna line device unitname_tilt annms base station notificationmrbts lnbts mrbts\n",
              "3130  INC000001716137  ...                                                                                                                                    cell notification additionalfaultid lncel transmission path failure notificationmrbts lnbts _ nms n west_corbanokia_netact gpp_v info batteriewuerdig nan mrbts operation degraded unitname antennaline smod_r left bbmod_r major alarm degradedmrbts unitname_antennaline\n",
              "2983  INC000001714836  ...                                                                                                                                                                                                                                                                                  cell operation degraded antenna signal level failure degradedrnc nms _ n no_corbanokia_netact gpp_v info batteriewuerdig nan\n",
              "3131  INC000001716141  ...  base station notification unitname tilt path smod_r rf_ext rmod_r ald_r antenna line device failure notificationmrbts lnbts unitname_tilt _ nms n west_corbanokia_netact gpp_v info batteriewuerdig nan mrbts cell faulty serial_no as unit blocked faultymrbts lncel serial_no_as control operation degraded antennaline major alarm degradedmrbts unitname_antennaline anms additionalfaultid transmission\n",
              "3132  INC000001716153  ...                                                                                                                                                                            cell operation degraded unitname antennaline path smod_r rf_ext rmod_r major alarm unitname_antennaline _ anms n no_corbanokia_netact gpp_v info batteriewuerdig nan notification additionalfaultid lncel transmission failure nms\n",
              "3138  INC000001716210  ...                                                                                                                 cell operation degraded unitname antennaline bbmod_r rf rm major alarm degradedmrbts lnbts lncel unitname_antennaline path _ smod_r bbext rmnms n west_corbanokia_netact gpp_v info batteriewuerdig nan mrbts minor notification additionalfaultid transmission failure notificationmrbts nms\n",
              "3142  INC000001716244  ...                                                                                                                                                                cell operation degraded unitname antennaline path smod_r rf_ext rmod_r minor alarm unitname_antennaline _ anms n no_corbanokia_netact gpp_v info batteriewuerdig regel nan major notification additionalfaultid lncel transmission failure nms\n",
              "3145  INC000001716259  ...                                                                                                                       cell operation degraded unitname antennaline bbmod_r rf rm major alarm degradedmrbts lnbts lncel unitname_antennaline path _ smod_r bbext rmnms n west_corbanokia_netact gpp_v info batteriewuerdig nan mrbts notification additionalfaultid transmission failure notificationmrbts nms\n",
              "\n",
              "[20 rows x 4 columns]"
            ]
          },
          "metadata": {
            "tags": []
          },
          "execution_count": 24
        }
      ]
    },
    {
      "cell_type": "code",
      "metadata": {
        "id": "672lPLlHcZKn"
      },
      "source": [
        "# Plot result\n",
        "import matplotlib.pyplot as plt\n",
        "  \n",
        "# Black removed and is used for noise instead.\n",
        "unique_labels = set(labels)\n",
        "colors = ['y', 'b', 'g', 'r']\n",
        "print(colors)\n",
        "for k, col in zip(unique_labels, colors):\n",
        "    if k == -1:\n",
        "        # Black used for noise.\n",
        "        col = 'k'\n",
        "  \n",
        "    class_member_mask = (labels == k)\n",
        "  \n",
        "    xy = features[class_member_mask & core_samples_mask]\n",
        "    plt.plot(xy[:, 0], xy[:, 1], 'o', markerfacecolor=col,\n",
        "                                      markeredgecolor='k', \n",
        "                                      markersize=6)\n",
        "  \n",
        "    xy = features[class_member_mask & ~core_samples_mask]\n",
        "    plt.plot(xy[:, 0], xy[:, 1], 'o', markerfacecolor=col,\n",
        "                                      markeredgecolor='k',\n",
        "                                      markersize=6)\n",
        "  \n",
        "plt.title('number of clusters: %d' %n_clusters_)\n",
        "plt.show()"
      ],
      "execution_count": null,
      "outputs": []
    },
    {
      "cell_type": "code",
      "metadata": {
        "id": "d935FUpr3xKj"
      },
      "source": [
        ""
      ],
      "execution_count": null,
      "outputs": []
    }
  ]
}